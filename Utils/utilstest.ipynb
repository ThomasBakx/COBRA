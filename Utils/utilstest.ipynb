{
 "cells": [
  {
   "cell_type": "code",
   "execution_count": 66,
   "id": "a3a532f2-6d01-4e55-855d-656d8346f4f3",
   "metadata": {},
   "outputs": [],
   "source": [
    "from scipy.integrate import quad_vec\n",
    "import numpy as np\n",
    "from scipy.special import gamma, eval_hermite"
   ]
  },
  {
   "cell_type": "code",
   "execution_count": null,
   "id": "83fd23cc-d90a-460b-becf-c775c8b5828d",
   "metadata": {},
   "outputs": [],
   "source": []
  },
  {
   "cell_type": "code",
   "execution_count": 8,
   "id": "0d3958f0-1d6e-462c-9bad-661c6bb1b4fd",
   "metadata": {},
   "outputs": [],
   "source": [
    "dim=3\n",
    "def f(D,N): #f(D,N) has dimension D along axis 1\n",
    "    if D==1:\n",
    "        return np.array([[N]],dtype=int)\n",
    "    ar=np.ones((1,D),dtype=int)\n",
    "    for k in np.arange(1,N):\n",
    "        prev=f(D-1,N-k) #M,D-1\n",
    "        size = np.shape(prev)[0]\n",
    "        ks = k*np.ones((size,1),dtype=int) #M,1\n",
    "        ark = np.concatenate([ks,prev],axis=1) #M,D\n",
    "        #print(np.shape(ark))\n",
    "        #print(np.shape(ar))\n",
    "        ar = np.concatenate([ar,ark],axis=0)\n",
    "    return ar[1:,:]\n",
    "\n",
    "max_deg = 11\n",
    "ind_list=np.ones((1,dim),dtype=int)\n",
    "for m in range(1,max_deg):\n",
    "    ind_list=np.concatenate([ind_list,f(dim,m)])"
   ]
  },
  {
   "cell_type": "code",
   "execution_count": 51,
   "id": "661ed22a-f7f3-4018-9a69-2c98cdd1488f",
   "metadata": {},
   "outputs": [
    {
     "name": "stdout",
     "output_type": "stream",
     "text": [
      "(120, 16)\n"
     ]
    },
    {
     "data": {
      "text/plain": [
       "(10,)"
      ]
     },
     "execution_count": 51,
     "metadata": {},
     "output_type": "execute_result"
    }
   ],
   "source": [
    "## including gamma factors in the RBF tables: \n",
    "bmat = np.loadtxt(\"../LCDM/RBFtables/ext/bmat_wts_LCDMext.dat\",unpack=True)\n",
    "print(np.shape(bmat))\n",
    "\n",
    "dim=3\n",
    "eps=0.1\n",
    "alpha=1.8 ##important!! Inverse global length scale associated with the problem, take alpha = 2 or 3?\n",
    "beta=(1+(2*eps/alpha)**2)**(1/4)\n",
    "deltasq=(alpha**2/2)*(beta**2-1)\n",
    "\n",
    "max_deg=11 ## maximum sum plus one \n",
    "ind_list=np.ones((1,dim),dtype=int)\n",
    "for m in range(1,max_deg):\n",
    "    ind_list=np.concatenate([ind_list,f(dim,m)])\n",
    "    \n",
    "ind_list=ind_list[1:]\n",
    "\n",
    "n_eig=np.shape(ind_list)[0] #total number of eigenfunctions used in D dims\n",
    "#print(n_eig)\n",
    "gamma_fac = np.sqrt((beta**dim)/(2**(np.sum(ind_list,axis=1)-dim)*np.prod(gamma(ind_list),axis=1)))\n",
    "np.shape(gamma_fac)"
   ]
  },
  {
   "cell_type": "code",
   "execution_count": 69,
   "id": "7d409f16-712d-4a00-96c3-13832c4b8bf3",
   "metadata": {},
   "outputs": [
    {
     "name": "stdout",
     "output_type": "stream",
     "text": [
      "(5005, 17)\n",
      "(5005, 20)\n"
     ]
    }
   ],
   "source": [
    "## including gamma factors in the RBF tables: \n",
    "bmat = np.loadtxt(\"../GEN/RBFtables/def/bmat_wts_GENdef.dat\",unpack=True)\n",
    "print(np.shape(bmat))\n",
    "\n",
    "dim=9\n",
    "## set up the interpolator as usual \n",
    "def f(D,N): #f(D,N) has dimension D along axis 1\n",
    "    if D==1:\n",
    "        return np.array([[N]],dtype=int)\n",
    "    ar=np.ones((1,D),dtype=int)\n",
    "    for k in np.arange(1,N):\n",
    "        prev=f(D-1,N-k) #M,D-1\n",
    "        size = np.shape(prev)[0]\n",
    "        ks = k*np.ones((size,1),dtype=int) #M,1\n",
    "        ark = np.concatenate([ks,prev],axis=1) #M,D\n",
    "        #print(np.shape(ark))\n",
    "        #print(np.shape(ar))\n",
    "        ar = np.concatenate([ar,ark],axis=0)\n",
    "    return ar[1:,:]\n",
    "\n",
    "eps=0.1\n",
    "alpha=2.5 ##important!! Inverse global length scale associated with the problem, take alpha = 2 or 3?\n",
    "beta=(1+(2*eps/alpha)**2)**(1/4)\n",
    "deltasq=(alpha**2/2)*(beta**2-1)\n",
    "\n",
    "max_deg=16\n",
    "ind_list=np.ones((1,dim),dtype=int)\n",
    "for m in range(1,max_deg):\n",
    "    ind_list=np.concatenate([ind_list,f(dim,m)])\n",
    "    \n",
    "ind_list=ind_list[1:]\n",
    "ind_array_m = ind_list - 1 \n",
    "\n",
    "unit_cube_points = np.ones((20,dim))\n",
    "\n",
    "n_eig=np.shape(ind_list)[0] #total number of eigenfunctions used in D dims\n",
    "#print(n_eig)\n",
    "gamma_fac = np.sqrt((beta**dim)/(2**(np.sum(ind_list,axis=1)-dim)*np.prod(gamma(ind_list),axis=1)))\n",
    "np.shape(gamma_fac)\n",
    "md = max_deg - dim\n",
    "\n",
    "exp_fac = np.exp(-deltasq * np.linalg.norm(unit_cube_points, axis=1) ** 2)\n",
    "herm = eval_hermite(np.arange(md)[:, None], alpha * beta * unit_cube_points[:, None, :])\n",
    "ev = np.prod(herm[:, ind_array_m, np.arange(dim)], axis=2)\n",
    "psi = (exp_fac[:, None] * ev).T  \n",
    "\n",
    "print(np.shape(psi))\n"
   ]
  },
  {
   "cell_type": "code",
   "execution_count": 61,
   "id": "38d08fcc-c70f-423f-ba73-7672876dd9fd",
   "metadata": {},
   "outputs": [
    {
     "name": "stdout",
     "output_type": "stream",
     "text": [
      "(3003,)\n"
     ]
    },
    {
     "data": {
      "text/plain": [
       "(3003,)"
      ]
     },
     "execution_count": 61,
     "metadata": {},
     "output_type": "execute_result"
    }
   ],
   "source": [
    "bmat = np.loadtxt(\"../GEN/RBFtables/ext/bmat_d_GENext.dat\",unpack=True)\n",
    "print(np.shape(bmat))\n",
    "dim_g = 6\n",
    "\n",
    "eps_g=0.1\n",
    "alpha_g=1.8 ##important!! Inverse global length scale associated with the problem, take alpha = 2 or 3?\n",
    "beta_g=(1+(2*eps_g/alpha_g)**2)**(1/4)\n",
    "deltasq_g=(alpha_g**2/2)*(beta_g**2-1)\n",
    "\n",
    "max_deg_g=15\n",
    "ind_list_g=np.ones((1,dim_g),dtype=int)\n",
    "for m in range(1,max_deg_g):\n",
    "    ind_list_g=np.concatenate([ind_list_g,f(dim_g,m)])\n",
    "\n",
    "\n",
    "    \n",
    "ind_list_g=ind_list_g[1:]\n",
    "gamma_fac_g = np.sqrt((beta_g**dim_g)/(2**(np.sum(ind_list_g,axis=1)-dim_g)*np.prod(gamma(ind_list_g),axis=1)))\n",
    "np.shape(gamma_fac_g)\n"
   ]
  },
  {
   "cell_type": "code",
   "execution_count": 100,
   "id": "121ea5d9-aaa2-4040-874f-53f307c23917",
   "metadata": {},
   "outputs": [
    {
     "data": {
      "text/plain": [
       "(600, 2)"
      ]
     },
     "execution_count": 100,
     "metadata": {},
     "output_type": "execute_result"
    }
   ],
   "source": [
    "np.shape(np.loadtxt(\"eh_spec.dat\",unpack=True))"
   ]
  },
  {
   "cell_type": "code",
   "execution_count": 99,
   "id": "21eb2cef-d796-4e07-a377-8899e6c472e6",
   "metadata": {},
   "outputs": [
    {
     "ename": "TypeError",
     "evalue": "No loop matching the specified signature and casting was found for ufunc ceil",
     "output_type": "error",
     "traceback": [
      "\u001b[0;31m---------------------------------------------------------------------------\u001b[0m",
      "\u001b[0;31mTypeError\u001b[0m                                 Traceback (most recent call last)",
      "Cell \u001b[0;32mIn[99], line 1\u001b[0m\n\u001b[0;32m----> 1\u001b[0m np\u001b[38;5;241m.\u001b[39mceil(\u001b[38;5;241m12.5\u001b[39m,dtype\u001b[38;5;241m=\u001b[39m\u001b[38;5;28mint\u001b[39m)\n",
      "\u001b[0;31mTypeError\u001b[0m: No loop matching the specified signature and casting was found for ufunc ceil"
     ]
    }
   ],
   "source": [
    "np.ceil(12.5,dtype=int)"
   ]
  },
  {
   "cell_type": "code",
   "execution_count": 64,
   "id": "7d5a7b14-f12a-4386-8c3c-cb3507ecc9c2",
   "metadata": {},
   "outputs": [
    {
     "name": "stdout",
     "output_type": "stream",
     "text": [
      "(5005, 17)\n"
     ]
    }
   ],
   "source": [
    "bmat = np.loadtxt(\"../LCDM/Stables/\",unpack=True)\n",
    "print(np.shape(bmat))"
   ]
  },
  {
   "cell_type": "code",
   "execution_count": 78,
   "id": "4b381d5f-1cd8-4d38-9218-f9c7f0f917fc",
   "metadata": {},
   "outputs": [
    {
     "data": {
      "text/plain": [
       "(5005, 17)"
      ]
     },
     "execution_count": 78,
     "metadata": {},
     "output_type": "execute_result"
    }
   ],
   "source": [
    "bmat = np.loadtxt(\"../GEN/RBFtables/def/bmat_wts_GENdef.dat\",unpack=True)\n",
    "np.shape(bmat)"
   ]
  },
  {
   "cell_type": "code",
   "execution_count": 82,
   "id": "da764d00-f6e2-4898-ac57-b6d292e3e763",
   "metadata": {},
   "outputs": [
    {
     "data": {
      "text/plain": [
       "array([ 1.84596362e+00, -1.24871777e-02, -1.55048364e-02, ...,\n",
       "       -8.79033156e-08,  1.66496958e-07, -3.13125792e-08])"
      ]
     },
     "execution_count": 82,
     "metadata": {},
     "output_type": "execute_result"
    }
   ],
   "source": [
    "bmat[:,-1]"
   ]
  },
  {
   "cell_type": "code",
   "execution_count": 80,
   "id": "ce8ae8f4-5e3f-4524-88a9-4ed973a49469",
   "metadata": {},
   "outputs": [],
   "source": [
    "bmat2 = np.roll(bmat,1,axis=1)"
   ]
  },
  {
   "cell_type": "code",
   "execution_count": 83,
   "id": "cb0d670c-ab60-4ebd-852e-3abe0465b872",
   "metadata": {},
   "outputs": [
    {
     "data": {
      "text/plain": [
       "array([ 1.84596362e+00, -1.24871777e-02, -1.55048364e-02, ...,\n",
       "       -8.79033156e-08,  1.66496958e-07, -3.13125792e-08])"
      ]
     },
     "execution_count": 83,
     "metadata": {},
     "output_type": "execute_result"
    }
   ],
   "source": [
    "bmat2[:,0]"
   ]
  },
  {
   "cell_type": "code",
   "execution_count": 84,
   "id": "241ef4e8-a558-400a-9c72-d4d32f38b2c4",
   "metadata": {},
   "outputs": [],
   "source": [
    "np.savetxt(\"../GEN/RBFtables/def/bmat_wts_GENdef.dat\",bmat2)"
   ]
  },
  {
   "cell_type": "code",
   "execution_count": 91,
   "id": "b374d34d-6cd8-4062-b47b-471a460f12fa",
   "metadata": {},
   "outputs": [
    {
     "data": {
      "text/plain": [
       "(17, 5005)"
      ]
     },
     "execution_count": 91,
     "metadata": {},
     "output_type": "execute_result"
    }
   ],
   "source": [
    "bmat = np.loadtxt(\"../GEN/RBFtables/def/bmat_wts_GENdef.dat\",unpack=True)\n",
    "np.shape(bmat)"
   ]
  },
  {
   "cell_type": "code",
   "execution_count": 96,
   "id": "68741bb5-a58e-4be0-8437-681741d9cf71",
   "metadata": {},
   "outputs": [
    {
     "data": {
      "text/plain": [
       "array([ 2.52545576e+01,  1.64019384e-01, -5.92943554e-03, ...,\n",
       "       -1.06336470e-04, -1.52687220e-04,  3.05013880e-03])"
      ]
     },
     "execution_count": 96,
     "metadata": {},
     "output_type": "execute_result"
    }
   ],
   "source": [
    "bmat[1]/gamma_fac"
   ]
  },
  {
   "cell_type": "code",
   "execution_count": 93,
   "id": "a63dfeb1-354c-497c-9ceb-fb0441e6cae7",
   "metadata": {},
   "outputs": [
    {
     "data": {
      "text/plain": [
       "(5005,)"
      ]
     },
     "execution_count": 93,
     "metadata": {},
     "output_type": "execute_result"
    }
   ],
   "source": [
    "np.shape(gamma_fac)"
   ]
  },
  {
   "cell_type": "code",
   "execution_count": 97,
   "id": "970be922-60b6-40b9-bf27-3519a322598b",
   "metadata": {},
   "outputs": [
    {
     "data": {
      "text/plain": [
       "array([ 2.54364630e+01,  1.16814602e-01, -4.22294389e-03, ...,\n",
       "       -1.22213333e-06, -1.75484610e-06,  1.43113408e-05])"
      ]
     },
     "execution_count": 97,
     "metadata": {},
     "output_type": "execute_result"
    }
   ],
   "source": [
    "bmat[1]"
   ]
  },
  {
   "cell_type": "code",
   "execution_count": 101,
   "id": "e8d16373-e0c0-4672-bc0a-b0082e460520",
   "metadata": {},
   "outputs": [],
   "source": [
    "def func(a:int):\n",
    "    return a+1"
   ]
  },
  {
   "cell_type": "code",
   "execution_count": 103,
   "id": "67c4a07b-edf3-401a-8994-89abd13c18d3",
   "metadata": {},
   "outputs": [],
   "source": [
    "eh = np.loadtxt(\"../Utils/eh_spec.dat\",unpack=True)"
   ]
  },
  {
   "cell_type": "code",
   "execution_count": 121,
   "id": "b3dc33d1-b406-484b-b8bc-307ad969076a",
   "metadata": {},
   "outputs": [
    {
     "data": {
      "text/plain": [
       "array([8.20034079e-03, 2.04618015e+04])"
      ]
     },
     "execution_count": 121,
     "metadata": {},
     "output_type": "execute_result"
    }
   ],
   "source": [
    "eh[277]"
   ]
  },
  {
   "cell_type": "code",
   "execution_count": null,
   "id": "2574bc70-479b-4baa-bdd9-bc06b8a7fc4a",
   "metadata": {},
   "outputs": [],
   "source": []
  }
 ],
 "metadata": {
  "kernelspec": {
   "display_name": "Python 3 (ipykernel)",
   "language": "python",
   "name": "python3"
  },
  "language_info": {
   "codemirror_mode": {
    "name": "ipython",
    "version": 3
   },
   "file_extension": ".py",
   "mimetype": "text/x-python",
   "name": "python",
   "nbconvert_exporter": "python",
   "pygments_lexer": "ipython3",
   "version": "3.11.5"
  }
 },
 "nbformat": 4,
 "nbformat_minor": 5
}
