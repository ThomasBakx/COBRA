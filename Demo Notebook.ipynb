{
 "cells": [
  {
   "cell_type": "code",
   "execution_count": null,
   "id": "d1f26f24-ae13-4ff7-a194-c80dd0b6f78a",
   "metadata": {},
   "outputs": [],
   "source": [
    "import numpy as np\n",
    "import scipy\n",
    "from scipy.stats import qmc\n",
    "\n",
    "import matplotlib.pyplot as plt\n",
    "%matplotlib inline\n",
    "%config InlineBackend.figure_format = 'retina'\n",
    "\n",
    "from LCDM.LCDM import CobraLCDM\n",
    "from GEN.GEN import CobraGEN\n",
    "from Utils.no_wiggle_power import no_wiggle_power\n",
    "from Utils.sigma_squared_bao import sigma_squared_bao\n",
    "from Utils.ir_resummed_power import ir_resummed_power\n",
    "from Utils.convert_units import convert_units_k_pk_from_hfid, convert_units_k_pk_to_hfid\n",
    "from scipy.interpolate import CubicSpline"
   ]
  },
  {
   "cell_type": "markdown",
   "id": "f62ba636-9dfa-4a81-9330-0b094d711fb3",
   "metadata": {},
   "source": [
    "### Linear Matter Power Spectrum: Comparison to CAMB\n",
    "\n",
    "In the first part of this demonstration notebook, we'll be running COBRA predictions for the linear matter power spectrum and comparing to CAMB. (Our decomposition is based on CAMB 1.5.)"
   ]
  },
  {
   "cell_type": "code",
   "execution_count": null,
   "id": "77542033-f284-45d9-bdea-1b032098e01d",
   "metadata": {},
   "outputs": [],
   "source": [
    "import camb \n",
    "from camb import model, initialpower \n",
    "from camb.dark_energy import DarkEnergyPPF, DarkEnergyFluid\n",
    "from camb.reionization import TanhReionization "
   ]
  },
  {
   "cell_type": "markdown",
   "id": "2b40db67-ab17-4acc-a4dd-f6ae19335164",
   "metadata": {},
   "source": [
    "The linear power spectrum can be computed either in LCDM or for more generalized model. Let's look at the former first; there are six parameters in this case."
   ]
  },
  {
   "cell_type": "code",
   "execution_count": null,
   "id": "1f81b876-7fb3-4494-b28d-dabc02b20dbc",
   "metadata": {},
   "outputs": [],
   "source": [
    "## instantiate object of class\n",
    "\n",
    "cobra_lcdm = CobraLCDM(param_range = 'def')\n",
    "\n",
    "## specify wavenumbers and cosmology (these are interpreted in units of h_fid / Mpc where h_fid = 0.7, hence the notation)\n",
    "k_min_hfid = 0.002\n",
    "k_max_hfid = 1.5\n",
    "n_bins = 300\n",
    "k_out_hfid = np.logspace(np.log10(k_min_hfid), np.log10(k_max_hfid), n_bins)\n",
    "params = {'omch2':[0.13], 'ombh2':[0.021], 'ns':[0.97], 'As': [2], 'h': [0.68], 'z':[1]} # you pass a dict (more on vectorization below)\n",
    "\n",
    "## by default, a call requires three arguments: the cosmological parameters, the output bins and the number of basis functions\n",
    "\n",
    "## compute linear power spectrum with a different number of basis functions\n",
    "plin_cobra_nb12 = cobra_lcdm.linear_matter_power(params, k_out_hfid, n_basis_list = [12])[0] ## you get back an array of size #cosmo x #bins\n",
    "plin_cobra_nb5 = cobra_lcdm.linear_matter_power(params, k_out_hfid, n_basis_list = [5])[0]\n",
    "\n",
    "cosmo = np.array([val for val in params.values()]).T\n",
    "\n",
    "## let's compute the linear power spectrum using CAMB as well:\n",
    "omega_c, omega_b, n_s, A_s, h, z = cosmo[0]\n",
    "A_s = A_s*10**(-9)\n",
    "pars = camb.set_params(kmax = 4) \n",
    "pars.set_cosmology(H0=100*h, ombh2=omega_b, omch2=omega_c,mnu=0,TCMB=2.7255)\n",
    "pars.InitPower.set_params(ns=n_s,As=A_s)\n",
    "pars.set_accuracy(AccuracyBoost=3)\n",
    "pars.set_matter_power(redshifts=[z], kmax=4.0,accurate_massive_neutrino_transfers=True)\n",
    "results = camb.get_results(pars)\n",
    "\n",
    "## note kh is in units of h/Mpc, not hfid/Mpc. \n",
    "kh, z, pk1 = results.get_matter_power_spectrum(minkh=k_min_hfid*0.7/h, maxkh=k_max_hfid*0.7/h, npoints = n_bins)\n",
    "p_out_camb = pk1[0]*(0.7/h)**3\n"
   ]
  },
  {
   "cell_type": "code",
   "execution_count": null,
   "id": "ee3c6ffb-3d53-48be-86c6-bc057238381d",
   "metadata": {},
   "outputs": [],
   "source": [
    "plt.xscale('log')\n",
    "plt.plot(k_out_hfid, p_out_camb/plin_cobra_nb12)\n",
    "plt.plot(k_out_hfid, p_out_camb/plin_cobra_nb5)\n",
    "plt.xlabel('k (h*/Mpc)',fontsize=16)\n",
    "plt.ylabel('CAMB / COBRA',fontsize=16)\n",
    "plt.legend(['12 basis functions','5 basis functions'],loc=[0.1,0.8])\n",
    "plt.show()"
   ]
  },
  {
   "cell_type": "markdown",
   "id": "ed019a72-0f98-4ee9-92d4-41d3f85f941e",
   "metadata": {},
   "source": [
    "Evaluation is fast, even with maximum (default) number of basis functions:"
   ]
  },
  {
   "cell_type": "code",
   "execution_count": null,
   "id": "36c7bbc3-d8c9-4213-9482-8bac7a24dfb3",
   "metadata": {},
   "outputs": [],
   "source": [
    "%%timeit\n",
    "plin_cobra = cobra_lcdm.linear_matter_power(params, k_out_hfid, n_basis_list=[12])[0]"
   ]
  },
  {
   "cell_type": "markdown",
   "id": "368d922c-3dc9-4155-b7e0-3684b9b5f3c4",
   "metadata": {},
   "source": [
    "In more generalized cases, you can pass 10 cosmological parameters. They include massive neutrinos, dynamical dark energy and curvature. "
   ]
  },
  {
   "cell_type": "code",
   "execution_count": null,
   "id": "578502a3-4d52-462b-bf8a-78964fdcc38f",
   "metadata": {},
   "outputs": [],
   "source": [
    "cobra_gen = CobraGEN(param_range = 'ext')\n",
    "\n",
    "params_gen = {'omch2':[0.12], 'ombh2':[0.023],'Omk':[0.15],'h':[0.75],'ns':[0.99],'Mnu':[0.5],'w0':[-0.9],'wp':[-0.6],'z':[1],'As':[4]} \n",
    "plin_cobra_gen_nb14 = cobra_gen.linear_matter_power(params_gen, k_out_hfid, n_basis_list=[14])[0] ## use same k range as before\n",
    "plin_cobra_gen_nb6 = cobra_gen.linear_matter_power(params_gen, k_out_hfid, n_basis_list=[6])[0]\n"
   ]
  },
  {
   "cell_type": "code",
   "execution_count": null,
   "id": "5e60c043-1926-47e9-b5a0-b9b1c9cbc221",
   "metadata": {},
   "outputs": [],
   "source": [
    "cosmo_gen = np.array([val for val in params_gen.values()]).T\n",
    "omega_c,omega_b,omega_k,h,n_s,m_nu,w0,wp,z,A_s = cosmo_gen[0]\n",
    "pars = camb.set_params(num_nu_massless = 2.044,kmax = 4.3464234,DoLensing=False)\n",
    "\n",
    "pars.set_cosmology(H0=100*h, ombh2=omega_b, omch2=omega_c,mnu=m_nu,omk=omega_k,TCMB=2.7255)\n",
    "pars.InitPower.set_params(ns=n_s,As=A_s*10**(-9))\n",
    "pars.set_accuracy(AccuracyBoost=2)\n",
    "pars.DarkEnergy=DarkEnergyPPF(w=w0, wa=wp-w0) ##plug in the correct value of wa = wp - w0\n",
    "pars.set_matter_power(redshifts=[z], kmax=4.0,accurate_massive_neutrino_transfers=True)\n",
    "results = camb.get_results(pars)\n",
    "results.Params.Reion = TanhReionization(Reionization=True)\n",
    "results = camb.get_results(pars)\n",
    "kh, z, pk1 = results.get_matter_power_spectrum(k_min_hfid*0.7/h, maxkh=k_max_hfid*0.7/h, npoints = n_bins)\n",
    "## note kh is in units of h/Mpc, not hfid/Mpc. \n",
    "p_out_camb_gen = pk1[0]*(0.7/h)**3"
   ]
  },
  {
   "cell_type": "code",
   "execution_count": null,
   "id": "f2296d33-eab5-4f3a-a41b-6d1d49a713a0",
   "metadata": {},
   "outputs": [],
   "source": [
    "plt.xscale('log')\n",
    "plt.plot(k_out_hfid, p_out_camb_gen/plin_cobra_gen_nb14)\n",
    "plt.plot(k_out_hfid, p_out_camb_gen/plin_cobra_gen_nb6)\n",
    "plt.xlabel('k (h*/Mpc)',fontsize=16)\n",
    "plt.ylabel('CAMB / COBRA',fontsize=16)\n",
    "plt.legend(['14 basis functions','6 basis functions'],loc=[0.1,0.8])\n",
    "plt.show()"
   ]
  },
  {
   "cell_type": "code",
   "execution_count": null,
   "id": "1d6b0c73-e7ab-4711-bbfb-5392eaf8ca4e",
   "metadata": {},
   "outputs": [],
   "source": [
    "%%timeit\n",
    "plin_cobra_gen = cobra_gen.linear_matter_power(params_gen, k_out_hfid, n_basis_list = [14], resum = True, disps_hfid = np.array([30]))[0]\n"
   ]
  },
  {
   "cell_type": "code",
   "execution_count": null,
   "id": "68c2020e-ee3f-40c5-9adf-c54a8fb79b39",
   "metadata": {},
   "outputs": [],
   "source": [
    "## you can also pass hundreds of cosmologies at once: let's do this for the default range of the extended parameter space\n",
    "## syntax is similar to BACCO here: see e.g. https://bacco.dipc.org/\n",
    "\n",
    "l_bounds_tot = np.array([0.095,0.0202,-0.12,0.55,0.9,0,-1.25,-0.3,0.1,1]) ## parameter bounds for the default range\n",
    "u_bounds_tot = np.array([0.145,0.0238,0.12,0.8,1.02,0.6,-0.75,0.3,3,5])\n",
    "\n",
    "cobra_gen_def = CobraGEN(param_range = 'def')"
   ]
  },
  {
   "cell_type": "code",
   "execution_count": null,
   "id": "1e80d471-1696-4c16-a122-3c283af6986e",
   "metadata": {},
   "outputs": [],
   "source": [
    "%%timeit\n",
    "ncos = 250\n",
    "params_unit_cube = np.random.uniform(0,1,(ncos,10))\n",
    "params_gen_array = qmc.scale(params_unit_cube,l_bounds_tot,u_bounds_tot) \n",
    "params_gen = {'omch2':params_gen_array[:,0],\n",
    "              'ombh2':params_gen_array[:,1],\n",
    "              'Omk':params_gen_array[:,2],\n",
    "              'h':params_gen_array[:,3],\n",
    "              'ns':params_gen_array[:,4],\n",
    "              'Mnu':params_gen_array[:,5],\n",
    "              'w0':params_gen_array[:,6],\n",
    "              'wa':params_gen_array[:,7],\n",
    "              'z':params_gen_array[:,8],\n",
    "              'As':params_gen_array[:,9]} \n",
    "              \n",
    "    \n",
    "plin_cobra_gen = cobra_gen_def.linear_matter_power(params_gen, k_out_hfid, n_basis_list = [12])[0]"
   ]
  },
  {
   "cell_type": "markdown",
   "id": "43b5dcca-9be8-4d57-b205-e2d11832e1e7",
   "metadata": {},
   "source": [
    "COBRA has some additional options for the linear power spectrum. For example, you can also request resummation via the wiggle-no-wiggle split. In LCDM, the displacement is emulated automatically (consistently with the wiggle-no-wiggle split)."
   ]
  },
  {
   "cell_type": "code",
   "execution_count": null,
   "id": "4b472b15-23c1-4eb9-9310-6e65abe571ef",
   "metadata": {},
   "outputs": [],
   "source": [
    "plin_cobra_noresum = cobra_lcdm.linear_matter_power(params, k_out_hfid, n_basis_list = [12])[0] \n",
    "plin_cobra_resum = cobra_lcdm.linear_matter_power(params, k_out_hfid, n_basis_list = [12], resum = True)[0] "
   ]
  },
  {
   "cell_type": "code",
   "execution_count": null,
   "id": "50dcf907-035c-478a-b6e3-d35fb18e8a07",
   "metadata": {},
   "outputs": [],
   "source": [
    "plt.xscale('log')\n",
    "plt.plot(k_out_hfid, plin_cobra_resum/plin_cobra_noresum)\n",
    "plt.xlabel('k (h*/Mpc)',fontsize=16)\n",
    "plt.ylabel(r'$P_{resum} / P$',fontsize=16)\n",
    "plt.show()"
   ]
  },
  {
   "cell_type": "markdown",
   "id": "98c711fe-d1a4-41e0-ac7b-59994c3d0be8",
   "metadata": {},
   "source": [
    "In extended cosmologies, the displacement is not emulated (yet) - you have to provide it yourself in the call. This is under construction. You can, however, compute the displacement beforehand yourself using the built-in brute-force integration via compute_disp. You can also directly apply compute_pir to a given input linear spectrum (though this is not vectorized)"
   ]
  },
  {
   "cell_type": "code",
   "execution_count": null,
   "id": "502604b2-bb57-4edc-8b95-43085e2ff2d5",
   "metadata": {},
   "outputs": [],
   "source": [
    "k_pk = np.array([k_out_hfid, plin_cobra_gen_nb14])\n",
    "plin_gen_nw = no_wiggle_power(k_pk)[1]"
   ]
  },
  {
   "cell_type": "code",
   "execution_count": null,
   "id": "59c29914-3a98-4228-82ba-ca0bc2044a99",
   "metadata": {},
   "outputs": [],
   "source": [
    "plt.xscale('log')\n",
    "plt.plot(k_out_hfid, plin_cobra_gen_nb14/plin_gen_nw)\n",
    "plt.xlabel('k (h*/Mpc)',fontsize=16)\n",
    "plt.ylabel(r'$P / P_{nw}$',fontsize=16)\n",
    "plt.show()\n",
    "## it is still advisable to inspect the result of the no-wiggle calculation before using it for the more general cosmologies "
   ]
  },
  {
   "cell_type": "code",
   "execution_count": null,
   "id": "777e6521-df72-44a8-a0dc-b63728ec1c54",
   "metadata": {},
   "outputs": [],
   "source": [
    "## you can also compute the displacement if you want to: \n",
    "displ = sigma_squared_bao(k_pk)\n",
    "displ"
   ]
  },
  {
   "cell_type": "markdown",
   "id": "bcb949e5-06a8-4767-8e89-9e8df50d45ab",
   "metadata": {},
   "source": [
    "### Galaxy Power Spectrum in Redshift Space\n",
    "\n",
    "In LCDM, we can also compute the power spectrum of galaxies as implemented in the EPT module of velocileptors. Let's see how that works! \n",
    "For the theory model and implementation of velocileptors we use here, see https://github.com/sfschen/velocileptors/blob/master/velocileptors/EPT/ept_fullresum_fftw.py\n",
    "    and https://arxiv.org/pdf/2005.00523,  https://arxiv.org/abs/2012.04636."
   ]
  },
  {
   "cell_type": "code",
   "execution_count": null,
   "id": "6e08c88c-a47d-4559-a962-628d62f670b5",
   "metadata": {},
   "outputs": [],
   "source": [
    "## some of these values taken from velocileptors demo notebook\n",
    "\n",
    "bias_params_ept = {'b1':[1.68593608], 'b2':[-1.17], 'bs':[-0.715], 'b3':[-0.479], \\\n",
    "               'alpha0':[50], 'alpha2':[50], 'alpha4':[50], 'alpha6':[50], \\\n",
    "               'sn':[3000], 'sn2':[3000], 'sn4':[3000], 'bfog':[0]}\n",
    "\n",
    "ept_cosmo = np.loadtxt(\"test_velocileptors_cosmo.dat\") ## a test cosmology; note that A_s is fixed to 2e-9 as in the paper\n",
    "ept_pell = np.loadtxt(\"test_velocileptors.dat\") ## test example from velocileptors - monopole, quadrupole and hexadecapole\n",
    "params_ept = {'omch2':[ept_cosmo[0]], 'ombh2':[ept_cosmo[1]], 'ns':[ept_cosmo[2]], \n",
    "              'As': [ept_cosmo[3]], 'h': [ept_cosmo[4]], 'z':[ept_cosmo[5]]}\n",
    "\n",
    "k_out_loop = cobra_lcdm.s_tables_loop[\"k_loop\"] ## the test example from velocileptors is computed at k_loop wavenumbers\n",
    "\n",
    "params_ept"
   ]
  },
  {
   "cell_type": "code",
   "execution_count": null,
   "id": "2db2905a-ec8b-4cee-bef8-e245e099dd05",
   "metadata": {},
   "outputs": [],
   "source": [
    "%%timeit \n",
    "pell = cobra_lcdm.oneloop_galaxy_power_multipoles(params_ept, bias_params_ept, k_out_loop, n_basis_list = [12,12]) "
   ]
  },
  {
   "cell_type": "code",
   "execution_count": null,
   "id": "946811cd-8647-4aa5-b0ec-8038bd207cb3",
   "metadata": {},
   "outputs": [],
   "source": [
    "## the default number of basis functions for this parameter range is 12\n",
    "cobra_pell_nb12 = cobra_lcdm.oneloop_galaxy_power_multipoles(params_ept, bias_params_ept, k_out_loop, n_basis_list = [12,12])[0]\n",
    "\n",
    "## for comparison, use 6 for linear and 6 for loop calculation\n",
    "cobra_pell_nb6 = cobra_lcdm.oneloop_galaxy_power_multipoles(params_ept, bias_params_ept, k_out_loop, n_basis_list = [6,6])[0] "
   ]
  },
  {
   "cell_type": "code",
   "execution_count": null,
   "id": "f60eb5e8-1c18-42c0-aad6-8de4ce1a4a78",
   "metadata": {},
   "outputs": [],
   "source": [
    "## let's look at the monopole: \n",
    "plt.xscale('log')\n",
    "plt.plot(k_out_loop, cobra_pell_nb12[0]/ept_pell[0])\n",
    "plt.plot(k_out_loop, cobra_pell_nb6[0]/ept_pell[0])\n",
    "plt.xlabel('k (h*/Mpc)',fontsize=16)\n",
    "plt.ylabel(r'$P^0_{cobra} / P^0_{velocileptors}$',fontsize=16)\n",
    "plt.legend(['12 basis functions','6 basis functions'],loc=[0.1,0.8])\n",
    "plt.show()"
   ]
  },
  {
   "cell_type": "code",
   "execution_count": null,
   "id": "cc8ede38-7939-4814-a790-a7a3a0bb1b39",
   "metadata": {},
   "outputs": [],
   "source": [
    "## you can also convert power spectra back to h/Mpc units:\n",
    "\n",
    "k_p0 = np.array([k_out_loop, cobra_pell_nb12[0]])\n",
    "k_p0_h = convert_units_k_pk_from_hfid(k_p0, h_out = ept_cosmo[4])"
   ]
  },
  {
   "cell_type": "markdown",
   "id": "1d4e0f98-3f2f-4b02-8d39-e42244a75ff2",
   "metadata": {},
   "source": [
    "### Using your own weights\n",
    "\n",
    "If you don't want to make any use of the built-in RBF emulators (which may be the case if you want to exceed their ranges, for example) then there is also the option of providing your own set of weights for the linear or one-loop calculation. Let's do an example!"
   ]
  },
  {
   "cell_type": "code",
   "execution_count": null,
   "id": "0bb9ba5f-be63-48f0-b8d2-d8293603c906",
   "metadata": {},
   "outputs": [],
   "source": [
    "## call CAMB for a cosmology with a nonzero neutrino mass and a nontrivial DE equation of state\n",
    "h=0.65\n",
    "pars = camb.set_params(kmax = 20) \n",
    "pars.set_cosmology(H0=100*h, ombh2=0.022, omch2=0.12, mnu=0.6,TCMB=2.7255)\n",
    "pars.InitPower.set_params(ns=n_s,As=2.2e-9)\n",
    "pars.set_accuracy(AccuracyBoost=3)\n",
    "pars.DarkEnergy=DarkEnergyPPF(w=-0.5, wa=0)\n",
    "pars.set_matter_power(redshifts=[1], kmax=20, accurate_massive_neutrino_transfers=True)\n",
    "results = camb.get_results(pars)\n",
    "\n",
    "kh, z, pk1 = results.get_matter_power_spectrum(minkh=1e-4, maxkh=20, npoints = 600)\n",
    "p_out_camb_mnuw0 = pk1[0]"
   ]
  },
  {
   "cell_type": "code",
   "execution_count": null,
   "id": "385539e1-3617-4273-b815-f57381b1233b",
   "metadata": {},
   "outputs": [],
   "source": [
    "## we can try to decompose this power spectrum into the cobra basis\n",
    "k_pk_mnu = np.array([kh,p_out_camb_mnuw0])\n",
    "cobra_lcdm_ext = CobraLCDM(param_range = 'ext')\n",
    "wts, proj = cobra_lcdm_ext.project_pk_into_basis(k_pk_mnu, h, n_basis_list=[12])\n"
   ]
  },
  {
   "cell_type": "code",
   "execution_count": null,
   "id": "90de175a-c644-4f83-a29d-0a03f26cbe0d",
   "metadata": {},
   "outputs": [],
   "source": [
    "## the projection is again in units of h_fid / Mpc, so to compare to the input we have to convert units again\n",
    "proj_h = convert_units_k_pk_from_hfid(proj, h_out = h) ## gives back k_pk array\n",
    "\n",
    "## let's compare them on the range of proj (which is narrower):\n",
    "camb_spl = CubicSpline(np.log10(kh),p_out_camb_mnuw0)(np.log10(proj_h[0]))"
   ]
  },
  {
   "cell_type": "code",
   "execution_count": null,
   "id": "ec143f30-5538-4ce2-9c3c-0fed90f9bef4",
   "metadata": {},
   "outputs": [],
   "source": [
    "## using the maximum number of 16 available basis functions, we can approximate the power spectrum with neutrinos quite well\n",
    "\n",
    "plt.xscale('log')\n",
    "plt.plot(proj_h[0],camb_spl / proj_h[1])\n",
    "plt.xlabel('k (h*/Mpc)',fontsize=16)\n",
    "plt.ylabel('CAMB / COBRA',fontsize=16)\n",
    "plt.show()\n"
   ]
  },
  {
   "cell_type": "code",
   "execution_count": null,
   "id": "34b6a15e-13ba-4579-afa5-753a6a31a432",
   "metadata": {},
   "outputs": [],
   "source": [
    "## you can now use the weights as inputs for a loop calculation, putting the cosmology argument to 'None'.\n",
    "## this of course still assumes that you can model all the dependence on cosmological parameters only via the input power spectrum\n",
    "## let's put the growth rate equal to unity for simplicity\n",
    "\n",
    "pell_mnuw0 = cobra_lcdm_ext.oneloop_galaxy_power_multipoles(cosmo = None, \n",
    "                                                          weights = np.array([wts]), \n",
    "                                                          bias = bias_params_ept,\n",
    "                                                            n_basis_list = [12,12],\n",
    "                                                          k_out_hfid = k_out_loop, \n",
    "                                                          growth_rates = np.array([1]),\n",
    "                                                         resum = False)[0]\n",
    "\n",
    "plt.xscale('log')\n",
    "plt.plot(k_out_loop, pell_mnuw0[0])\n",
    "plt.plot(k_out_loop, pell_mnuw0[1])\n",
    "plt.plot(k_out_loop, 10*pell_mnuw0[2])\n",
    "plt.legend([r'$P_0$',r'$P_2$',r'$10 P_4$'],loc=[0.6,0.6],fontsize = 16)\n",
    "plt.xlabel('k (h*/Mpc)',fontsize=16)\n",
    "plt.ylabel('P(k)',fontsize=16)\n",
    "plt.show()"
   ]
  },
  {
   "cell_type": "markdown",
   "id": "f98fc55b-78ee-44d1-b1fa-8e3a7d44282f",
   "metadata": {},
   "source": [
    "### Running a Chain: Minimal Working Example \n",
    "\n",
    "If you want to run an MCMC chain using COBRA, it's as simple as putting the 'compute' call in your likelihood. The only important thing to remember is that you should create the COBRA instance outside of the likelihood - creating the instance is slow, since all the requisite tables need to be loaded into memory. Here is an example of COBRA to perform cosmological inference on the one-loop matter power spectrum in LCDM."
   ]
  },
  {
   "cell_type": "code",
   "execution_count": null,
   "id": "efe0711b-a9b6-4a1e-b149-d0a637e814b5",
   "metadata": {},
   "outputs": [],
   "source": [
    "import dynesty\n",
    "import getdist\n",
    "from getdist import plots, MCSamples\n",
    "import time"
   ]
  },
  {
   "cell_type": "markdown",
   "id": "3b04c5aa-8c7a-423b-a328-dffd7cf0c78e",
   "metadata": {},
   "source": [
    "First we need to create some mock data. In practice this data_vec will contain real data."
   ]
  },
  {
   "cell_type": "code",
   "execution_count": null,
   "id": "604ed446-d62f-46ea-9817-873cb72fb693",
   "metadata": {},
   "outputs": [],
   "source": [
    "csq = 10 # speed of sound \n",
    "ctr = {'csq':[10]}\n",
    "## let's assume we have a true data vector which is given to us in units of h_true / Mpc\n",
    "\n",
    "boxlen = 2000 # box side length in units of Mpc/h_true \n",
    "kf = 2 * np.pi / boxlen\n",
    "dk = 0.005 ## some arbitrary choice of binning\n",
    "h_true = 0.68 #use params from above \n",
    "k_bins_h_loop = np.arange(0.005, 0.25, dk) # k range in units of h_true / Mpc\n",
    "# Convert to the units used in this program\n",
    "k_bins_hfid_loop = k_bins_h_loop * h_true / 0.7 \n",
    "\n",
    "n_mode = 4 * np.pi * dk * k_bins_h_loop ** 2 / kf ** 3\n",
    "frac_error = np.sqrt(2 / n_mode) ## fractional error on power spectrum in the Gaussian approximation\n",
    "\n",
    "cobra_lcdm_ext = CobraLCDM(param_range = 'ext') \n",
    "## true vector in h_true units; let's use the cosmology from above \n",
    "data_vec = cobra_lcdm_ext.oneloop_matter_power(params, ctr, k_bins_hfid_loop, \n",
    "                                               n_basis_list = [12,12], resum = False)[0] * (h_true / 0.7) ** 3 "
   ]
  },
  {
   "cell_type": "markdown",
   "id": "c5394f7a-335a-4345-8f28-38061fb69215",
   "metadata": {},
   "source": [
    "Now we will create the functions that will be used to fit the data."
   ]
  },
  {
   "cell_type": "code",
   "execution_count": null,
   "id": "56492e81-f7d9-4ccd-937a-e26c8911478d",
   "metadata": {},
   "outputs": [],
   "source": [
    "bounds = np.array([[0.08, 0, 0.5, -100], [0.175, 5, 0.9, 100]]) # w_cdm, A_s, h + last entry is the counterterm\n",
    "\n",
    "def ptform(u):\n",
    "    return bounds[0] + (bounds[1] - bounds[0]) * u\n",
    "\n",
    "def loglike(cosmo_and_ctr):\n",
    "    omch2, As, h, csq = cosmo_and_ctr\n",
    "    params = {'omch2':[omch2], 'ombh2':[0.021], 'ns':[0.97], 'As':[As], 'h':[h],'z':[1]} # fix baryon density, spectral index and redshift\n",
    "    k_bins_hfid_loop = k_bins_h_loop * h / 0.7\n",
    "    ctr = {'csq':[csq]}\n",
    "    pred = cobra_lcdm_ext.oneloop_matter_power(params, ctr, k_bins_hfid_loop, n_basis_list = [12,12], resum = False)[0] * (h / 0.7) ** 3\n",
    "    return -0.5 * np.sum(((pred - data_vec) / (data_vec * frac_error)) ** 2)\n"
   ]
  },
  {
   "cell_type": "markdown",
   "id": "dd4bf3fa-5689-4c1f-b179-93098125e671",
   "metadata": {},
   "source": [
    "run the sampler: this should take < 1min or so on a personal laptop"
   ]
  },
  {
   "cell_type": "code",
   "execution_count": null,
   "id": "eba06ff7-fe3b-4d50-82ec-13351494aa7f",
   "metadata": {},
   "outputs": [],
   "source": [
    "start = time.time()\n",
    "ndim = 4\n",
    "sampler = dynesty.DynamicNestedSampler(loglike, ptform, ndim, nlive=500, sample='unif')\n",
    "sampler.run_nested(dlogz_init=0.0001, maxcall=10**6, print_progress=False) \n",
    "res1loop=sampler.results\n",
    "end = time.time()\n",
    "print(end-start)"
   ]
  },
  {
   "cell_type": "code",
   "execution_count": null,
   "id": "1b38f929-6633-458d-b861-ffe1c7565948",
   "metadata": {},
   "outputs": [],
   "source": [
    "samps1loop = res1loop.samples\n",
    "names = [\"x%s\"%i for i in range(ndim)]\n",
    "labels =  [r'\\omega_{cdm}',r'A_s','h']\n",
    "getdist_mcsamps = MCSamples(samples = samps1loop, names = names, labels = labels, weights = np.exp(res1loop.logwt-np.max(res1loop.logwt)))\n",
    "\n",
    "g = plots.get_subplot_plotter()\n",
    "g.triangle_plot([getdist_mcsamps], ['x0', 'x1', 'x2'], \n",
    "                filled=True, markers = {'x0':0.13,'x1':2,'x2':0.68})     "
   ]
  },
  {
   "cell_type": "code",
   "execution_count": null,
   "id": "37af195b-14ed-4c08-b113-0ecbfaaedd78",
   "metadata": {},
   "outputs": [],
   "source": []
  }
 ],
 "metadata": {
  "kernelspec": {
   "display_name": "Python 3 (ipykernel)",
   "language": "python",
   "name": "python3"
  },
  "language_info": {
   "codemirror_mode": {
    "name": "ipython",
    "version": 3
   },
   "file_extension": ".py",
   "mimetype": "text/x-python",
   "name": "python",
   "nbconvert_exporter": "python",
   "pygments_lexer": "ipython3",
   "version": "3.9.19"
  }
 },
 "nbformat": 4,
 "nbformat_minor": 5
}
